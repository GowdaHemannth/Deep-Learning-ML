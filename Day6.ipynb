{
 "cells": [
  {
   "cell_type": "code",
   "execution_count": null,
   "id": "ae1ff3fa-15f8-485d-a373-c404c3571f54",
   "metadata": {},
   "outputs": [],
   "source": [
    "## Today we will be Learning How to Tackle the Iambalanced Dataset \n",
    "## Here imbalanced dataset means when we have dataset like 100 Samples\n",
    "## Then there would be 95 % Not Sapm categorized data and only 5 % Spam Category Daat \n",
    "## So here what happens is when these data fed into the Machine \n",
    "## It will create imbalnce hwn predicting data beaucse we have not predicted both Data \n"
   ]
  },
  {
   "cell_type": "code",
   "execution_count": null,
   "id": "2730ca84-c5ac-4497-8edf-bdce912afbc5",
   "metadata": {},
   "outputs": [],
   "source": [
    "## Undersampling and there are many other FUnction Availble Which makes the Imbalance Data to be Perfect\n",
    "example \n",
    "### Df.sample(2) Here by using sample function and mentioning the number under in it \n",
    "## Will Provide the Nesccery Data Mention number of data number to make it Balance\n",
    "\n",
    "## Then concate Both Datset \n",
    "## Then its sane steps train test split \n",
    "## Neurol Network Connection \n"
   ]
  },
  {
   "cell_type": "code",
   "execution_count": null,
   "id": "f75840f2-b941-4d5f-a35f-abb7a07160e2",
   "metadata": {},
   "outputs": [],
   "source": [
    "Second Method is OverSampling \n",
    "\n",
    "## Here instaed of reducing the Samples Here we will Increase the Samples by Duplicaring the amples \n"
   ]
  },
  {
   "cell_type": "code",
   "execution_count": null,
   "id": "ac65b0fb-2dd0-4d61-b7ba-7bfc1ce13aa0",
   "metadata": {},
   "outputs": [],
   "source": [
    "THIRD METHOD IS SMOTE \n",
    "\n",
    "##SMOTE = Synthetic Minority Over-sampling Technique\n",
    "## It’s a method to handle imbalanced datasets by creating new, synthetic samples for the minority class instead of just duplicating existing ones.\n",
    "## Here simply it juts not Duplicate the Dat intead it will Crete a new dataset by Analysing the Pattern "
   ]
  },
  {
   "cell_type": "code",
   "execution_count": null,
   "id": "2ee319db-7576-4a47-b1df-13709e79b2dc",
   "metadata": {},
   "outputs": [],
   "source": []
  }
 ],
 "metadata": {
  "kernelspec": {
   "display_name": "Python 3 (ipykernel)",
   "language": "python",
   "name": "python3"
  },
  "language_info": {
   "codemirror_mode": {
    "name": "ipython",
    "version": 3
   },
   "file_extension": ".py",
   "mimetype": "text/x-python",
   "name": "python",
   "nbconvert_exporter": "python",
   "pygments_lexer": "ipython3",
   "version": "3.9.23"
  }
 },
 "nbformat": 4,
 "nbformat_minor": 5
}
