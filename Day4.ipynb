{
 "cells": [
  {
   "cell_type": "code",
   "execution_count": 43,
   "id": "fc4bc991-c56a-483a-ae73-81548ebccdf5",
   "metadata": {},
   "outputs": [],
   "source": [
    "import tensorflow as tf\n",
    "from tensorflow import keras\n",
    "import pandas as pd\n",
    "\n",
    "import matplotlib.pyplot as plt\n",
    "import numpy as np"
   ]
  },
  {
   "cell_type": "code",
   "execution_count": 44,
   "id": "3de5dc7b-6dc5-402a-8600-1cb4e0bfbbdf",
   "metadata": {},
   "outputs": [
    {
     "data": {
      "text/html": [
       "<div>\n",
       "<style scoped>\n",
       "    .dataframe tbody tr th:only-of-type {\n",
       "        vertical-align: middle;\n",
       "    }\n",
       "\n",
       "    .dataframe tbody tr th {\n",
       "        vertical-align: top;\n",
       "    }\n",
       "\n",
       "    .dataframe thead th {\n",
       "        text-align: right;\n",
       "    }\n",
       "</style>\n",
       "<table border=\"1\" class=\"dataframe\">\n",
       "  <thead>\n",
       "    <tr style=\"text-align: right;\">\n",
       "      <th></th>\n",
       "      <th>customerID</th>\n",
       "      <th>gender</th>\n",
       "      <th>SeniorCitizen</th>\n",
       "      <th>Partner</th>\n",
       "      <th>Dependents</th>\n",
       "      <th>tenure</th>\n",
       "      <th>PhoneService</th>\n",
       "      <th>MultipleLines</th>\n",
       "      <th>InternetService</th>\n",
       "      <th>OnlineSecurity</th>\n",
       "      <th>...</th>\n",
       "      <th>DeviceProtection</th>\n",
       "      <th>TechSupport</th>\n",
       "      <th>StreamingTV</th>\n",
       "      <th>StreamingMovies</th>\n",
       "      <th>Contract</th>\n",
       "      <th>PaperlessBilling</th>\n",
       "      <th>PaymentMethod</th>\n",
       "      <th>MonthlyCharges</th>\n",
       "      <th>TotalCharges</th>\n",
       "      <th>Churn</th>\n",
       "    </tr>\n",
       "  </thead>\n",
       "  <tbody>\n",
       "    <tr>\n",
       "      <th>0</th>\n",
       "      <td>7590-VHVEG</td>\n",
       "      <td>Female</td>\n",
       "      <td>0</td>\n",
       "      <td>Yes</td>\n",
       "      <td>No</td>\n",
       "      <td>1</td>\n",
       "      <td>No</td>\n",
       "      <td>No phone service</td>\n",
       "      <td>DSL</td>\n",
       "      <td>No</td>\n",
       "      <td>...</td>\n",
       "      <td>No</td>\n",
       "      <td>No</td>\n",
       "      <td>No</td>\n",
       "      <td>No</td>\n",
       "      <td>Month-to-month</td>\n",
       "      <td>Yes</td>\n",
       "      <td>Electronic check</td>\n",
       "      <td>29.85</td>\n",
       "      <td>29.85</td>\n",
       "      <td>No</td>\n",
       "    </tr>\n",
       "    <tr>\n",
       "      <th>1</th>\n",
       "      <td>5575-GNVDE</td>\n",
       "      <td>Male</td>\n",
       "      <td>0</td>\n",
       "      <td>No</td>\n",
       "      <td>No</td>\n",
       "      <td>34</td>\n",
       "      <td>Yes</td>\n",
       "      <td>No</td>\n",
       "      <td>DSL</td>\n",
       "      <td>Yes</td>\n",
       "      <td>...</td>\n",
       "      <td>Yes</td>\n",
       "      <td>No</td>\n",
       "      <td>No</td>\n",
       "      <td>No</td>\n",
       "      <td>One year</td>\n",
       "      <td>No</td>\n",
       "      <td>Mailed check</td>\n",
       "      <td>56.95</td>\n",
       "      <td>1889.5</td>\n",
       "      <td>No</td>\n",
       "    </tr>\n",
       "    <tr>\n",
       "      <th>2</th>\n",
       "      <td>3668-QPYBK</td>\n",
       "      <td>Male</td>\n",
       "      <td>0</td>\n",
       "      <td>No</td>\n",
       "      <td>No</td>\n",
       "      <td>2</td>\n",
       "      <td>Yes</td>\n",
       "      <td>No</td>\n",
       "      <td>DSL</td>\n",
       "      <td>Yes</td>\n",
       "      <td>...</td>\n",
       "      <td>No</td>\n",
       "      <td>No</td>\n",
       "      <td>No</td>\n",
       "      <td>No</td>\n",
       "      <td>Month-to-month</td>\n",
       "      <td>Yes</td>\n",
       "      <td>Mailed check</td>\n",
       "      <td>53.85</td>\n",
       "      <td>108.15</td>\n",
       "      <td>Yes</td>\n",
       "    </tr>\n",
       "    <tr>\n",
       "      <th>3</th>\n",
       "      <td>7795-CFOCW</td>\n",
       "      <td>Male</td>\n",
       "      <td>0</td>\n",
       "      <td>No</td>\n",
       "      <td>No</td>\n",
       "      <td>45</td>\n",
       "      <td>No</td>\n",
       "      <td>No phone service</td>\n",
       "      <td>DSL</td>\n",
       "      <td>Yes</td>\n",
       "      <td>...</td>\n",
       "      <td>Yes</td>\n",
       "      <td>Yes</td>\n",
       "      <td>No</td>\n",
       "      <td>No</td>\n",
       "      <td>One year</td>\n",
       "      <td>No</td>\n",
       "      <td>Bank transfer (automatic)</td>\n",
       "      <td>42.30</td>\n",
       "      <td>1840.75</td>\n",
       "      <td>No</td>\n",
       "    </tr>\n",
       "    <tr>\n",
       "      <th>4</th>\n",
       "      <td>9237-HQITU</td>\n",
       "      <td>Female</td>\n",
       "      <td>0</td>\n",
       "      <td>No</td>\n",
       "      <td>No</td>\n",
       "      <td>2</td>\n",
       "      <td>Yes</td>\n",
       "      <td>No</td>\n",
       "      <td>Fiber optic</td>\n",
       "      <td>No</td>\n",
       "      <td>...</td>\n",
       "      <td>No</td>\n",
       "      <td>No</td>\n",
       "      <td>No</td>\n",
       "      <td>No</td>\n",
       "      <td>Month-to-month</td>\n",
       "      <td>Yes</td>\n",
       "      <td>Electronic check</td>\n",
       "      <td>70.70</td>\n",
       "      <td>151.65</td>\n",
       "      <td>Yes</td>\n",
       "    </tr>\n",
       "  </tbody>\n",
       "</table>\n",
       "<p>5 rows × 21 columns</p>\n",
       "</div>"
      ],
      "text/plain": [
       "   customerID  gender  SeniorCitizen Partner Dependents  tenure PhoneService  \\\n",
       "0  7590-VHVEG  Female              0     Yes         No       1           No   \n",
       "1  5575-GNVDE    Male              0      No         No      34          Yes   \n",
       "2  3668-QPYBK    Male              0      No         No       2          Yes   \n",
       "3  7795-CFOCW    Male              0      No         No      45           No   \n",
       "4  9237-HQITU  Female              0      No         No       2          Yes   \n",
       "\n",
       "      MultipleLines InternetService OnlineSecurity  ... DeviceProtection  \\\n",
       "0  No phone service             DSL             No  ...               No   \n",
       "1                No             DSL            Yes  ...              Yes   \n",
       "2                No             DSL            Yes  ...               No   \n",
       "3  No phone service             DSL            Yes  ...              Yes   \n",
       "4                No     Fiber optic             No  ...               No   \n",
       "\n",
       "  TechSupport StreamingTV StreamingMovies        Contract PaperlessBilling  \\\n",
       "0          No          No              No  Month-to-month              Yes   \n",
       "1          No          No              No        One year               No   \n",
       "2          No          No              No  Month-to-month              Yes   \n",
       "3         Yes          No              No        One year               No   \n",
       "4          No          No              No  Month-to-month              Yes   \n",
       "\n",
       "               PaymentMethod MonthlyCharges  TotalCharges Churn  \n",
       "0           Electronic check          29.85         29.85    No  \n",
       "1               Mailed check          56.95        1889.5    No  \n",
       "2               Mailed check          53.85        108.15   Yes  \n",
       "3  Bank transfer (automatic)          42.30       1840.75    No  \n",
       "4           Electronic check          70.70        151.65   Yes  \n",
       "\n",
       "[5 rows x 21 columns]"
      ]
     },
     "execution_count": 44,
     "metadata": {},
     "output_type": "execute_result"
    }
   ],
   "source": [
    "df=pd.read_csv(\"Company.csv\")\n",
    "df.head()"
   ]
  },
  {
   "cell_type": "code",
   "execution_count": 45,
   "id": "863ac69b-580f-43f9-98c7-3260d072e1b1",
   "metadata": {},
   "outputs": [
    {
     "data": {
      "text/html": [
       "<div>\n",
       "<style scoped>\n",
       "    .dataframe tbody tr th:only-of-type {\n",
       "        vertical-align: middle;\n",
       "    }\n",
       "\n",
       "    .dataframe tbody tr th {\n",
       "        vertical-align: top;\n",
       "    }\n",
       "\n",
       "    .dataframe thead th {\n",
       "        text-align: right;\n",
       "    }\n",
       "</style>\n",
       "<table border=\"1\" class=\"dataframe\">\n",
       "  <thead>\n",
       "    <tr style=\"text-align: right;\">\n",
       "      <th></th>\n",
       "      <th>gender</th>\n",
       "      <th>SeniorCitizen</th>\n",
       "      <th>Partner</th>\n",
       "      <th>Dependents</th>\n",
       "      <th>tenure</th>\n",
       "      <th>PhoneService</th>\n",
       "      <th>MultipleLines</th>\n",
       "      <th>InternetService</th>\n",
       "      <th>OnlineSecurity</th>\n",
       "      <th>OnlineBackup</th>\n",
       "      <th>DeviceProtection</th>\n",
       "      <th>TechSupport</th>\n",
       "      <th>StreamingTV</th>\n",
       "      <th>StreamingMovies</th>\n",
       "      <th>Contract</th>\n",
       "      <th>PaperlessBilling</th>\n",
       "      <th>PaymentMethod</th>\n",
       "      <th>MonthlyCharges</th>\n",
       "      <th>TotalCharges</th>\n",
       "      <th>Churn</th>\n",
       "    </tr>\n",
       "  </thead>\n",
       "  <tbody>\n",
       "    <tr>\n",
       "      <th>0</th>\n",
       "      <td>Female</td>\n",
       "      <td>0</td>\n",
       "      <td>Yes</td>\n",
       "      <td>No</td>\n",
       "      <td>1</td>\n",
       "      <td>No</td>\n",
       "      <td>No phone service</td>\n",
       "      <td>DSL</td>\n",
       "      <td>No</td>\n",
       "      <td>Yes</td>\n",
       "      <td>No</td>\n",
       "      <td>No</td>\n",
       "      <td>No</td>\n",
       "      <td>No</td>\n",
       "      <td>Month-to-month</td>\n",
       "      <td>Yes</td>\n",
       "      <td>Electronic check</td>\n",
       "      <td>29.85</td>\n",
       "      <td>29.85</td>\n",
       "      <td>No</td>\n",
       "    </tr>\n",
       "    <tr>\n",
       "      <th>1</th>\n",
       "      <td>Male</td>\n",
       "      <td>0</td>\n",
       "      <td>No</td>\n",
       "      <td>No</td>\n",
       "      <td>34</td>\n",
       "      <td>Yes</td>\n",
       "      <td>No</td>\n",
       "      <td>DSL</td>\n",
       "      <td>Yes</td>\n",
       "      <td>No</td>\n",
       "      <td>Yes</td>\n",
       "      <td>No</td>\n",
       "      <td>No</td>\n",
       "      <td>No</td>\n",
       "      <td>One year</td>\n",
       "      <td>No</td>\n",
       "      <td>Mailed check</td>\n",
       "      <td>56.95</td>\n",
       "      <td>1889.5</td>\n",
       "      <td>No</td>\n",
       "    </tr>\n",
       "    <tr>\n",
       "      <th>2</th>\n",
       "      <td>Male</td>\n",
       "      <td>0</td>\n",
       "      <td>No</td>\n",
       "      <td>No</td>\n",
       "      <td>2</td>\n",
       "      <td>Yes</td>\n",
       "      <td>No</td>\n",
       "      <td>DSL</td>\n",
       "      <td>Yes</td>\n",
       "      <td>Yes</td>\n",
       "      <td>No</td>\n",
       "      <td>No</td>\n",
       "      <td>No</td>\n",
       "      <td>No</td>\n",
       "      <td>Month-to-month</td>\n",
       "      <td>Yes</td>\n",
       "      <td>Mailed check</td>\n",
       "      <td>53.85</td>\n",
       "      <td>108.15</td>\n",
       "      <td>Yes</td>\n",
       "    </tr>\n",
       "    <tr>\n",
       "      <th>3</th>\n",
       "      <td>Male</td>\n",
       "      <td>0</td>\n",
       "      <td>No</td>\n",
       "      <td>No</td>\n",
       "      <td>45</td>\n",
       "      <td>No</td>\n",
       "      <td>No phone service</td>\n",
       "      <td>DSL</td>\n",
       "      <td>Yes</td>\n",
       "      <td>No</td>\n",
       "      <td>Yes</td>\n",
       "      <td>Yes</td>\n",
       "      <td>No</td>\n",
       "      <td>No</td>\n",
       "      <td>One year</td>\n",
       "      <td>No</td>\n",
       "      <td>Bank transfer (automatic)</td>\n",
       "      <td>42.30</td>\n",
       "      <td>1840.75</td>\n",
       "      <td>No</td>\n",
       "    </tr>\n",
       "    <tr>\n",
       "      <th>4</th>\n",
       "      <td>Female</td>\n",
       "      <td>0</td>\n",
       "      <td>No</td>\n",
       "      <td>No</td>\n",
       "      <td>2</td>\n",
       "      <td>Yes</td>\n",
       "      <td>No</td>\n",
       "      <td>Fiber optic</td>\n",
       "      <td>No</td>\n",
       "      <td>No</td>\n",
       "      <td>No</td>\n",
       "      <td>No</td>\n",
       "      <td>No</td>\n",
       "      <td>No</td>\n",
       "      <td>Month-to-month</td>\n",
       "      <td>Yes</td>\n",
       "      <td>Electronic check</td>\n",
       "      <td>70.70</td>\n",
       "      <td>151.65</td>\n",
       "      <td>Yes</td>\n",
       "    </tr>\n",
       "  </tbody>\n",
       "</table>\n",
       "</div>"
      ],
      "text/plain": [
       "   gender  SeniorCitizen Partner Dependents  tenure PhoneService  \\\n",
       "0  Female              0     Yes         No       1           No   \n",
       "1    Male              0      No         No      34          Yes   \n",
       "2    Male              0      No         No       2          Yes   \n",
       "3    Male              0      No         No      45           No   \n",
       "4  Female              0      No         No       2          Yes   \n",
       "\n",
       "      MultipleLines InternetService OnlineSecurity OnlineBackup  \\\n",
       "0  No phone service             DSL             No          Yes   \n",
       "1                No             DSL            Yes           No   \n",
       "2                No             DSL            Yes          Yes   \n",
       "3  No phone service             DSL            Yes           No   \n",
       "4                No     Fiber optic             No           No   \n",
       "\n",
       "  DeviceProtection TechSupport StreamingTV StreamingMovies        Contract  \\\n",
       "0               No          No          No              No  Month-to-month   \n",
       "1              Yes          No          No              No        One year   \n",
       "2               No          No          No              No  Month-to-month   \n",
       "3              Yes         Yes          No              No        One year   \n",
       "4               No          No          No              No  Month-to-month   \n",
       "\n",
       "  PaperlessBilling              PaymentMethod  MonthlyCharges TotalCharges  \\\n",
       "0              Yes           Electronic check           29.85        29.85   \n",
       "1               No               Mailed check           56.95       1889.5   \n",
       "2              Yes               Mailed check           53.85       108.15   \n",
       "3               No  Bank transfer (automatic)           42.30      1840.75   \n",
       "4              Yes           Electronic check           70.70       151.65   \n",
       "\n",
       "  Churn  \n",
       "0    No  \n",
       "1    No  \n",
       "2   Yes  \n",
       "3    No  \n",
       "4   Yes  "
      ]
     },
     "execution_count": 45,
     "metadata": {},
     "output_type": "execute_result"
    }
   ],
   "source": [
    "## one thing is Clear in Machine Learning Customer_id is no use \n",
    "df.drop(\"customerID\",axis='columns',inplace=True)\n",
    "df.head()"
   ]
  },
  {
   "cell_type": "code",
   "execution_count": 46,
   "id": "300e8f04-92d9-4442-a0d3-0c9e7af94ae1",
   "metadata": {},
   "outputs": [
    {
     "data": {
      "text/plain": [
       "array(['29.85', '1889.5', '108.15', ..., '346.45', '306.6', '6844.5'],\n",
       "      dtype=object)"
      ]
     },
     "execution_count": 46,
     "metadata": {},
     "output_type": "execute_result"
    }
   ],
   "source": [
    "df.TotalCharges.values"
   ]
  },
  {
   "cell_type": "code",
   "execution_count": 47,
   "id": "31e6426a-e8ff-434f-82d8-c1fae47f2a8a",
   "metadata": {},
   "outputs": [],
   "source": [
    "## As you can see from above un code the values are in Strings But i need to convert them into the Numeric Values\n",
    "df['TotalCharges']=pd.to_numeric(df['TotalCharges'],errors='coerce')\n",
    "## Here errors Coerce Beacuse of the If there are any spaces between them "
   ]
  },
  {
   "cell_type": "code",
   "execution_count": 48,
   "id": "ed98fa02-095e-4ac5-82d9-17c234b0fec0",
   "metadata": {},
   "outputs": [
    {
     "data": {
      "text/plain": [
       "29.85"
      ]
     },
     "execution_count": 48,
     "metadata": {},
     "output_type": "execute_result"
    }
   ],
   "source": [
    "df.iloc[0][\"TotalCharges\"]"
   ]
  },
  {
   "cell_type": "code",
   "execution_count": 49,
   "id": "a272024d-3877-486a-9e84-20f2474ad497",
   "metadata": {},
   "outputs": [
    {
     "data": {
      "text/plain": [
       "(7043, 20)"
      ]
     },
     "execution_count": 49,
     "metadata": {},
     "output_type": "execute_result"
    }
   ],
   "source": [
    "df.shape"
   ]
  },
  {
   "cell_type": "code",
   "execution_count": 50,
   "id": "e710a6eb-4951-41e2-8382-32fee2fe4de3",
   "metadata": {},
   "outputs": [],
   "source": [
    "## Here we stating if its nots eqaul to Space then Drop it \n",
    "df1=df[df.TotalCharges!='']\n"
   ]
  },
  {
   "cell_type": "code",
   "execution_count": 51,
   "id": "3da92e09-a267-4f30-a3d6-699dc86ed23f",
   "metadata": {},
   "outputs": [],
   "source": [
    "df1.TotalCharges=pd.to_numeric(df1.TotalCharges)"
   ]
  },
  {
   "cell_type": "code",
   "execution_count": 52,
   "id": "503c2fe1-d198-436d-afa8-24fdd95108fd",
   "metadata": {},
   "outputs": [
    {
     "data": {
      "text/plain": [
       "dtype('float64')"
      ]
     },
     "execution_count": 52,
     "metadata": {},
     "output_type": "execute_result"
    }
   ],
   "source": [
    "df1.TotalCharges.dtypes"
   ]
  },
  {
   "cell_type": "code",
   "execution_count": 53,
   "id": "0e5492d4-cd98-44eb-a0d6-10739fb4c99f",
   "metadata": {},
   "outputs": [
    {
     "data": {
      "text/plain": [
       "<matplotlib.legend.Legend at 0x186414c59a0>"
      ]
     },
     "execution_count": 53,
     "metadata": {},
     "output_type": "execute_result"
    },
    {
     "data": {
      "image/png": "[encoded data removed]",
      "text/plain": [
       "<Figure size 640x480 with 1 Axes>"
      ]
     },
     "metadata": {},
     "output_type": "display_data"
    }
   ],
   "source": [
    "## Here from these Datset WE are Defing or Getting to Know that Whether the Particlar Customer is Leavng the Comonay or Not \n",
    "## Here as you can see Churn No Means The Employee is Not leaving \n",
    "tenure_churn_no=df1[df1.Churn=='No'].tenure\n",
    "tenure_churn_Yes=df1[df1.Churn=='Yes'].tenure\n",
    "plt.xlabel(\"Tenure\")\n",
    "plt.ylabel(\"Number of Customers\")\n",
    "plt.hist([tenure_churn_Yes,tenure_churn_no],color=['green','red'],label=['Churn=Yes','Churn=No'])\n",
    "plt.legend()"
   ]
  },
  {
   "cell_type": "code",
   "execution_count": 54,
   "id": "94701965-088b-4ac8-a562-f5cffdd20435",
   "metadata": {},
   "outputs": [],
   "source": [
    "def print_Unique_Values(df1):\n",
    "   for column in df1:\n",
    "     if df[column].dtypes=='object':\n",
    "    \n",
    "    \n",
    "        print(df1[column].unique())"
   ]
  },
  {
   "cell_type": "code",
   "execution_count": 55,
   "id": "d849892b-85e3-4f46-aad3-1f46c2b09670",
   "metadata": {},
   "outputs": [
    {
     "name": "stdout",
     "output_type": "stream",
     "text": [
      "['Female' 'Male']\n",
      "['Yes' 'No']\n",
      "['No' 'Yes']\n",
      "['No' 'Yes']\n",
      "['No phone service' 'No' 'Yes']\n",
      "['DSL' 'Fiber optic' 'No']\n",
      "['No' 'Yes' 'No internet service']\n",
      "['Yes' 'No' 'No internet service']\n",
      "['No' 'Yes' 'No internet service']\n",
      "['No' 'Yes' 'No internet service']\n",
      "['No' 'Yes' 'No internet service']\n",
      "['No' 'Yes' 'No internet service']\n",
      "['Month-to-month' 'One year' 'Two year']\n",
      "['Yes' 'No']\n",
      "['Electronic check' 'Mailed check' 'Bank transfer (automatic)'\n",
      " 'Credit card (automatic)']\n",
      "['No' 'Yes']\n"
     ]
    }
   ],
   "source": [
    "## These Function Gives us The unique values Which are Having Dattype as Object\n",
    "print_Unique_Values(df1)"
   ]
  },
  {
   "cell_type": "code",
   "execution_count": 56,
   "id": "3a1a3937-4724-4f09-bd2d-fc594be1c0ec",
   "metadata": {},
   "outputs": [],
   "source": [
    "df1.replace(\"No internet service\",'No', inplace=True)\n",
    "df1.replace(\"No phone service\",'No',inplace=True )"
   ]
  },
  {
   "cell_type": "code",
   "execution_count": 57,
   "id": "bbfa5342-7338-4df6-b0bf-df3654a4c9fe",
   "metadata": {},
   "outputs": [
    {
     "name": "stdout",
     "output_type": "stream",
     "text": [
      "['Female' 'Male']\n",
      "['Yes' 'No']\n",
      "['No' 'Yes']\n",
      "['No' 'Yes']\n",
      "['No' 'Yes']\n",
      "['DSL' 'Fiber optic' 'No']\n",
      "['No' 'Yes']\n",
      "['Yes' 'No']\n",
      "['No' 'Yes']\n",
      "['No' 'Yes']\n",
      "['No' 'Yes']\n",
      "['No' 'Yes']\n",
      "['Month-to-month' 'One year' 'Two year']\n",
      "['Yes' 'No']\n",
      "['Electronic check' 'Mailed check' 'Bank transfer (automatic)'\n",
      " 'Credit card (automatic)']\n",
      "['No' 'Yes']\n"
     ]
    }
   ],
   "source": [
    "print_Unique_Values(df1)"
   ]
  },
  {
   "cell_type": "code",
   "execution_count": 58,
   "id": "c1484456-28f3-46d9-9032-1687f837c33f",
   "metadata": {},
   "outputs": [
    {
     "name": "stderr",
     "output_type": "stream",
     "text": [
      "C:\\Users\\Heman\\AppData\\Local\\Temp\\ipykernel_16024\\2705337999.py:9: FutureWarning: A value is trying to be set on a copy of a DataFrame or Series through chained assignment using an inplace method.\n",
      "The behavior will change in pandas 3.0. This inplace method will never work because the intermediate object on which we are setting values always behaves as a copy.\n",
      "\n",
      "For example, when doing 'df[col].method(value, inplace=True)', try using 'df.method({col: value}, inplace=True)' or df[col] = df[col].method(value) instead, to perform the operation inplace on the original object.\n",
      "\n",
      "\n",
      "  df1[col].replace({'Yes': 1, 'No': 0}, inplace=True)\n",
      "C:\\Users\\Heman\\AppData\\Local\\Temp\\ipykernel_16024\\2705337999.py:9: FutureWarning: Downcasting behavior in `replace` is deprecated and will be removed in a future version. To retain the old behavior, explicitly call `result.infer_objects(copy=False)`. To opt-in to the future behavior, set `pd.set_option('future.no_silent_downcasting', True)`\n",
      "  df1[col].replace({'Yes': 1, 'No': 0}, inplace=True)\n"
     ]
    }
   ],
   "source": [
    "yes_no_Columns = [\n",
    "    'Partner', 'Dependents', 'PhoneService', 'MultipleLines',\n",
    "    'OnlineSecurity', 'OnlineBackup', 'DeviceProtection',\n",
    "    'TechSupport', 'StreamingTV', 'StreamingMovies',\n",
    "    'PaperlessBilling', 'Churn'\n",
    "]\n",
    "\n",
    "for col in yes_no_Columns:\n",
    "    df1[col].replace({'Yes': 1, 'No': 0}, inplace=True)\n"
   ]
  },
  {
   "cell_type": "code",
   "execution_count": 59,
   "id": "ba746237-d2c0-47a0-9236-a6dd05bbcd2b",
   "metadata": {},
   "outputs": [
    {
     "name": "stdout",
     "output_type": "stream",
     "text": [
      "['Female' 'Male']\n",
      "[0 1]\n",
      "[1 0]\n",
      "[0 1]\n",
      "[ 1 34  2 45  8 22 10 28 62 13 16 58 49 25 69 52 71 21 12 30 47 72 17 27\n",
      "  5 46 11 70 63 43 15 60 18 66  9  3 31 50 64 56  7 42 35 48 29 65 38 68\n",
      " 32 55 37 36 41  6  4 33 67 23 57 61 14 20 53 40 59 24 44 19 54 51 26  0\n",
      " 39]\n",
      "[0 1]\n",
      "[0 1]\n",
      "['DSL' 'Fiber optic' 'No']\n",
      "[0 1]\n",
      "[1 0]\n",
      "[0 1]\n",
      "[0 1]\n",
      "[0 1]\n",
      "[0 1]\n",
      "['Month-to-month' 'One year' 'Two year']\n",
      "[1 0]\n",
      "['Electronic check' 'Mailed check' 'Bank transfer (automatic)'\n",
      " 'Credit card (automatic)']\n",
      "[29.85 56.95 53.85 ... 63.1  44.2  78.7 ]\n",
      "[  29.85 1889.5   108.15 ...  346.45  306.6  6844.5 ]\n",
      "[0 1]\n"
     ]
    }
   ],
   "source": [
    "for column in df1:\n",
    "     \n",
    "    \n",
    "    \n",
    "        print(df1[column].unique())"
   ]
  },
  {
   "cell_type": "code",
   "execution_count": 60,
   "id": "ff2159df-7ae6-4b86-8140-5ff728fd32b1",
   "metadata": {},
   "outputs": [
    {
     "name": "stderr",
     "output_type": "stream",
     "text": [
      "C:\\Users\\Heman\\AppData\\Local\\Temp\\ipykernel_16024\\2307240372.py:1: FutureWarning: A value is trying to be set on a copy of a DataFrame or Series through chained assignment using an inplace method.\n",
      "The behavior will change in pandas 3.0. This inplace method will never work because the intermediate object on which we are setting values always behaves as a copy.\n",
      "\n",
      "For example, when doing 'df[col].method(value, inplace=True)', try using 'df.method({col: value}, inplace=True)' or df[col] = df[col].method(value) instead, to perform the operation inplace on the original object.\n",
      "\n",
      "\n",
      "  df1['gender'].replace({\"Female\":1,\"Male\":0},inplace=True)\n",
      "C:\\Users\\Heman\\AppData\\Local\\Temp\\ipykernel_16024\\2307240372.py:1: FutureWarning: Downcasting behavior in `replace` is deprecated and will be removed in a future version. To retain the old behavior, explicitly call `result.infer_objects(copy=False)`. To opt-in to the future behavior, set `pd.set_option('future.no_silent_downcasting', True)`\n",
      "  df1['gender'].replace({\"Female\":1,\"Male\":0},inplace=True)\n"
     ]
    }
   ],
   "source": [
    "df1['gender'].replace({\"Female\":1,\"Male\":0},inplace=True)\n"
   ]
  },
  {
   "cell_type": "code",
   "execution_count": 61,
   "id": "988892c7-24cb-412a-a73c-b0126119aaa7",
   "metadata": {},
   "outputs": [
    {
     "data": {
      "text/plain": [
       "array([1, 0], dtype=int64)"
      ]
     },
     "execution_count": 61,
     "metadata": {},
     "output_type": "execute_result"
    }
   ],
   "source": [
    "df1[\"gender\"].unique()"
   ]
  },
  {
   "cell_type": "code",
   "execution_count": 62,
   "id": "d68000ff-5aed-4bf5-a8ee-7f34342579ef",
   "metadata": {},
   "outputs": [],
   "source": [
    "## Here you just need to know Good idea About Hot -Encoding \n",
    "## Hot Encoding is just like Classfiing something based on Row or Coulmn Number \n",
    "## think you have ten classifcation like animals Cat,Dog,Elephant,Lion \n",
    "## Now you want Classifythem based on Column Number oR Row Number like [0,0,0,1] These Means it is Indicating the Lion \n"
   ]
  },
  {
   "cell_type": "code",
   "execution_count": 63,
   "id": "4e698dab-e3f2-4083-ba66-fbdb1e4b2920",
   "metadata": {},
   "outputs": [
    {
     "data": {
      "text/plain": [
       "Index(['gender', 'SeniorCitizen', 'Partner', 'Dependents', 'tenure',\n",
       "       'PhoneService', 'MultipleLines', 'OnlineSecurity', 'OnlineBackup',\n",
       "       'DeviceProtection', 'TechSupport', 'StreamingTV', 'StreamingMovies',\n",
       "       'PaperlessBilling', 'MonthlyCharges', 'TotalCharges', 'Churn',\n",
       "       'InternetService_DSL', 'InternetService_Fiber optic',\n",
       "       'InternetService_No', 'Contract_Month-to-month', 'Contract_One year',\n",
       "       'Contract_Two year', 'PaymentMethod_Bank transfer (automatic)',\n",
       "       'PaymentMethod_Credit card (automatic)',\n",
       "       'PaymentMethod_Electronic check', 'PaymentMethod_Mailed check'],\n",
       "      dtype='object')"
      ]
     },
     "execution_count": 63,
     "metadata": {},
     "output_type": "execute_result"
    }
   ],
   "source": [
    "## Here using pandas Dummy You will create the Columns Which are NEssecery for the Thing '\n",
    "\n",
    "## Here for one Colum it will Create three More Columns in Chart\n",
    "df2 = pd.get_dummies(\n",
    "    data=df1,\n",
    "    columns=['InternetService', 'Contract', 'PaymentMethod'],\n",
    "    dtype=int  # ensures 0/1 instead of True/False\n",
    ")\n",
    "df2.columns"
   ]
  },
  {
   "cell_type": "code",
   "execution_count": 64,
   "id": "cb4d1091-146e-408a-8972-15565ab53112",
   "metadata": {},
   "outputs": [
    {
     "data": {
      "text/plain": [
       "gender                                       int64\n",
       "SeniorCitizen                                int64\n",
       "Partner                                      int64\n",
       "Dependents                                   int64\n",
       "tenure                                       int64\n",
       "PhoneService                                 int64\n",
       "MultipleLines                                int64\n",
       "OnlineSecurity                               int64\n",
       "OnlineBackup                                 int64\n",
       "DeviceProtection                             int64\n",
       "TechSupport                                  int64\n",
       "StreamingTV                                  int64\n",
       "StreamingMovies                              int64\n",
       "PaperlessBilling                             int64\n",
       "MonthlyCharges                             float64\n",
       "TotalCharges                               float64\n",
       "Churn                                        int64\n",
       "InternetService_DSL                          int32\n",
       "InternetService_Fiber optic                  int32\n",
       "InternetService_No                           int32\n",
       "Contract_Month-to-month                      int32\n",
       "Contract_One year                            int32\n",
       "Contract_Two year                            int32\n",
       "PaymentMethod_Bank transfer (automatic)      int32\n",
       "PaymentMethod_Credit card (automatic)        int32\n",
       "PaymentMethod_Electronic check               int32\n",
       "PaymentMethod_Mailed check                   int32\n",
       "dtype: object"
      ]
     },
     "execution_count": 64,
     "metadata": {},
     "output_type": "execute_result"
    }
   ],
   "source": [
    "df2.dtypes"
   ]
  },
  {
   "cell_type": "code",
   "execution_count": 65,
   "id": "e6336a38-80f7-4367-924c-aeda9d0aec4d",
   "metadata": {},
   "outputs": [],
   "source": [
    "## Scaling is just Enhanced Version of the Hot Encoding Thing Here what we will dp is \n",
    "## Like monthly Cahrges will have Large Unit values like 1000 or 1200 \n",
    "## We willllc onvert them into the Range of 0 or 1\n",
    "cols_to_scale=['tenure','MonthlyCharges','TotalCharges']\n",
    "from sklearn.preprocessing import MinMaxScaler\n",
    "scaler=MinMaxScaler()\n",
    "## After these Call the Fit_Tarnformer \n",
    "df2[cols_to_scale]=scaler.fit_transform(df2[cols_to_scale])"
   ]
  },
  {
   "cell_type": "code",
   "execution_count": 66,
   "id": "1fb28ccc-8214-4700-89d3-7b1631c341db",
   "metadata": {},
   "outputs": [
    {
     "data": {
      "text/html": [
       "<div>\n",
       "<style scoped>\n",
       "    .dataframe tbody tr th:only-of-type {\n",
       "        vertical-align: middle;\n",
       "    }\n",
       "\n",
       "    .dataframe tbody tr th {\n",
       "        vertical-align: top;\n",
       "    }\n",
       "\n",
       "    .dataframe thead th {\n",
       "        text-align: right;\n",
       "    }\n",
       "</style>\n",
       "<table border=\"1\" class=\"dataframe\">\n",
       "  <thead>\n",
       "    <tr style=\"text-align: right;\">\n",
       "      <th></th>\n",
       "      <th>gender</th>\n",
       "      <th>SeniorCitizen</th>\n",
       "      <th>Partner</th>\n",
       "      <th>Dependents</th>\n",
       "      <th>tenure</th>\n",
       "      <th>PhoneService</th>\n",
       "      <th>MultipleLines</th>\n",
       "      <th>OnlineSecurity</th>\n",
       "      <th>OnlineBackup</th>\n",
       "      <th>DeviceProtection</th>\n",
       "      <th>...</th>\n",
       "      <th>InternetService_DSL</th>\n",
       "      <th>InternetService_Fiber optic</th>\n",
       "      <th>InternetService_No</th>\n",
       "      <th>Contract_Month-to-month</th>\n",
       "      <th>Contract_One year</th>\n",
       "      <th>Contract_Two year</th>\n",
       "      <th>PaymentMethod_Bank transfer (automatic)</th>\n",
       "      <th>PaymentMethod_Credit card (automatic)</th>\n",
       "      <th>PaymentMethod_Electronic check</th>\n",
       "      <th>PaymentMethod_Mailed check</th>\n",
       "    </tr>\n",
       "  </thead>\n",
       "  <tbody>\n",
       "    <tr>\n",
       "      <th>4786</th>\n",
       "      <td>0</td>\n",
       "      <td>0</td>\n",
       "      <td>0</td>\n",
       "      <td>0</td>\n",
       "      <td>1.000000</td>\n",
       "      <td>1</td>\n",
       "      <td>1</td>\n",
       "      <td>0</td>\n",
       "      <td>1</td>\n",
       "      <td>1</td>\n",
       "      <td>...</td>\n",
       "      <td>0</td>\n",
       "      <td>1</td>\n",
       "      <td>0</td>\n",
       "      <td>0</td>\n",
       "      <td>0</td>\n",
       "      <td>1</td>\n",
       "      <td>0</td>\n",
       "      <td>0</td>\n",
       "      <td>1</td>\n",
       "      <td>0</td>\n",
       "    </tr>\n",
       "    <tr>\n",
       "      <th>4277</th>\n",
       "      <td>1</td>\n",
       "      <td>0</td>\n",
       "      <td>0</td>\n",
       "      <td>0</td>\n",
       "      <td>0.083333</td>\n",
       "      <td>1</td>\n",
       "      <td>0</td>\n",
       "      <td>0</td>\n",
       "      <td>0</td>\n",
       "      <td>0</td>\n",
       "      <td>...</td>\n",
       "      <td>0</td>\n",
       "      <td>0</td>\n",
       "      <td>1</td>\n",
       "      <td>1</td>\n",
       "      <td>0</td>\n",
       "      <td>0</td>\n",
       "      <td>0</td>\n",
       "      <td>0</td>\n",
       "      <td>0</td>\n",
       "      <td>1</td>\n",
       "    </tr>\n",
       "    <tr>\n",
       "      <th>4441</th>\n",
       "      <td>0</td>\n",
       "      <td>0</td>\n",
       "      <td>1</td>\n",
       "      <td>0</td>\n",
       "      <td>0.583333</td>\n",
       "      <td>1</td>\n",
       "      <td>0</td>\n",
       "      <td>0</td>\n",
       "      <td>0</td>\n",
       "      <td>0</td>\n",
       "      <td>...</td>\n",
       "      <td>0</td>\n",
       "      <td>0</td>\n",
       "      <td>1</td>\n",
       "      <td>0</td>\n",
       "      <td>0</td>\n",
       "      <td>1</td>\n",
       "      <td>0</td>\n",
       "      <td>0</td>\n",
       "      <td>1</td>\n",
       "      <td>0</td>\n",
       "    </tr>\n",
       "  </tbody>\n",
       "</table>\n",
       "<p>3 rows × 27 columns</p>\n",
       "</div>"
      ],
      "text/plain": [
       "      gender  SeniorCitizen  Partner  Dependents    tenure  PhoneService  \\\n",
       "4786       0              0        0           0  1.000000             1   \n",
       "4277       1              0        0           0  0.083333             1   \n",
       "4441       0              0        1           0  0.583333             1   \n",
       "\n",
       "      MultipleLines  OnlineSecurity  OnlineBackup  DeviceProtection  ...  \\\n",
       "4786              1               0             1                 1  ...   \n",
       "4277              0               0             0                 0  ...   \n",
       "4441              0               0             0                 0  ...   \n",
       "\n",
       "      InternetService_DSL  InternetService_Fiber optic  InternetService_No  \\\n",
       "4786                    0                            1                   0   \n",
       "4277                    0                            0                   1   \n",
       "4441                    0                            0                   1   \n",
       "\n",
       "      Contract_Month-to-month  Contract_One year  Contract_Two year  \\\n",
       "4786                        0                  0                  1   \n",
       "4277                        1                  0                  0   \n",
       "4441                        0                  0                  1   \n",
       "\n",
       "      PaymentMethod_Bank transfer (automatic)  \\\n",
       "4786                                        0   \n",
       "4277                                        0   \n",
       "4441                                        0   \n",
       "\n",
       "      PaymentMethod_Credit card (automatic)  PaymentMethod_Electronic check  \\\n",
       "4786                                      0                               1   \n",
       "4277                                      0                               0   \n",
       "4441                                      0                               1   \n",
       "\n",
       "      PaymentMethod_Mailed check  \n",
       "4786                           0  \n",
       "4277                           1  \n",
       "4441                           0  \n",
       "\n",
       "[3 rows x 27 columns]"
      ]
     },
     "execution_count": 66,
     "metadata": {},
     "output_type": "execute_result"
    }
   ],
   "source": [
    "df2.sample(3)"
   ]
  },
  {
   "cell_type": "code",
   "execution_count": 67,
   "id": "601910ca-9be6-41b8-b8b6-e64cd781f42e",
   "metadata": {},
   "outputs": [],
   "source": [
    "## Here that i am doing is In x I will be Dropping \n",
    "## Here main Intension of the Project is to check why people are leaving Compny \n",
    "## For that i need to add the Main thing output Layer into the One Y Thing \n",
    "## Remaing i need to add to x so \n",
    "X=df2.drop('Churn',axis='columns')\n",
    "y=df2[\"Churn\"]"
   ]
  },
  {
   "cell_type": "code",
   "execution_count": 68,
   "id": "7970b432-cccc-4446-8c63-1a2a631e80b2",
   "metadata": {},
   "outputs": [],
   "source": [
    "## Her Tarin Test Split \n",
    "from sklearn.model_selection import train_test_split\n",
    "X_train,X_test,y_train,y_test=train_test_split(X,y,test_size=0.1,random_state=5)"
   ]
  },
  {
   "cell_type": "code",
   "execution_count": 69,
   "id": "f5e01799-36e0-437c-9e6f-91802fa889bb",
   "metadata": {},
   "outputs": [
    {
     "data": {
      "text/plain": [
       "26"
      ]
     },
     "execution_count": 69,
     "metadata": {},
     "output_type": "execute_result"
    }
   ],
   "source": [
    "len(X_train.columns)"
   ]
  },
  {
   "cell_type": "code",
   "execution_count": 70,
   "id": "502c6523-57b0-4e6c-aa5a-eb22448938d6",
   "metadata": {},
   "outputs": [],
   "source": [
    "import tensorflow as tf\n",
    "from tensorflow import keras\n",
    "##Total number of Columsn "
   ]
  },
  {
   "cell_type": "code",
   "execution_count": 74,
   "id": "dcebad66-f63c-4479-be35-16163e538f13",
   "metadata": {},
   "outputs": [
    {
     "data": {
      "text/plain": [
       "(gender                                     0\n",
       " SeniorCitizen                              0\n",
       " Partner                                    0\n",
       " Dependents                                 0\n",
       " tenure                                     0\n",
       " PhoneService                               0\n",
       " MultipleLines                              0\n",
       " OnlineSecurity                             0\n",
       " OnlineBackup                               0\n",
       " DeviceProtection                           0\n",
       " TechSupport                                0\n",
       " StreamingTV                                0\n",
       " StreamingMovies                            0\n",
       " PaperlessBilling                           0\n",
       " MonthlyCharges                             0\n",
       " TotalCharges                               0\n",
       " InternetService_DSL                        0\n",
       " InternetService_Fiber optic                0\n",
       " InternetService_No                         0\n",
       " Contract_Month-to-month                    0\n",
       " Contract_One year                          0\n",
       " Contract_Two year                          0\n",
       " PaymentMethod_Bank transfer (automatic)    0\n",
       " PaymentMethod_Credit card (automatic)      0\n",
       " PaymentMethod_Electronic check             0\n",
       " PaymentMethod_Mailed check                 0\n",
       " dtype: int64,\n",
       " 0)"
      ]
     },
     "execution_count": 74,
     "metadata": {},
     "output_type": "execute_result"
    }
   ],
   "source": [
    "np.isnan(X_train).sum(), np.isnan(y_train).sum()\n",
    "np.isinf(X_train).sum(), np.isinf(y_train).sum()\n"
   ]
  },
  {
   "cell_type": "code",
   "execution_count": 73,
   "id": "6d48cf2e-a2a3-4cae-8e0f-c81e6a805d7b",
   "metadata": {},
   "outputs": [
    {
     "name": "stdout",
     "output_type": "stream",
     "text": [
      "Epoch 1/50\n",
      "199/199 [==============================] - 2s 5ms/step - loss: nan - accuracy: 0.7375\n",
      "Epoch 2/50\n",
      "199/199 [==============================] - 1s 4ms/step - loss: nan - accuracy: 0.7373\n",
      "Epoch 3/50\n",
      "199/199 [==============================] - 1s 4ms/step - loss: nan - accuracy: 0.7373\n",
      "Epoch 4/50\n",
      "199/199 [==============================] - 1s 5ms/step - loss: nan - accuracy: 0.7373\n",
      "Epoch 5/50\n",
      "199/199 [==============================] - 1s 4ms/step - loss: nan - accuracy: 0.7373\n",
      "Epoch 6/50\n",
      "199/199 [==============================] - 1s 4ms/step - loss: nan - accuracy: 0.7373\n",
      "Epoch 7/50\n",
      "199/199 [==============================] - 1s 4ms/step - loss: nan - accuracy: 0.7373\n",
      "Epoch 8/50\n",
      "199/199 [==============================] - 1s 4ms/step - loss: nan - accuracy: 0.7373\n",
      "Epoch 9/50\n",
      "199/199 [==============================] - 1s 4ms/step - loss: nan - accuracy: 0.7373\n",
      "Epoch 10/50\n",
      "199/199 [==============================] - 1s 4ms/step - loss: nan - accuracy: 0.7373\n",
      "Epoch 11/50\n",
      "199/199 [==============================] - 1s 4ms/step - loss: nan - accuracy: 0.7373\n",
      "Epoch 12/50\n",
      "199/199 [==============================] - 1s 4ms/step - loss: nan - accuracy: 0.7373\n",
      "Epoch 13/50\n",
      "199/199 [==============================] - 1s 4ms/step - loss: nan - accuracy: 0.7373\n",
      "Epoch 14/50\n",
      "199/199 [==============================] - 1s 4ms/step - loss: nan - accuracy: 0.7373\n",
      "Epoch 15/50\n",
      "199/199 [==============================] - 1s 4ms/step - loss: nan - accuracy: 0.7373\n",
      "Epoch 16/50\n",
      "199/199 [==============================] - 1s 4ms/step - loss: nan - accuracy: 0.7373\n",
      "Epoch 17/50\n",
      "199/199 [==============================] - 1s 5ms/step - loss: nan - accuracy: 0.7373\n",
      "Epoch 18/50\n",
      "199/199 [==============================] - 1s 5ms/step - loss: nan - accuracy: 0.7373\n",
      "Epoch 19/50\n",
      "199/199 [==============================] - 1s 5ms/step - loss: nan - accuracy: 0.7373\n",
      "Epoch 20/50\n",
      "199/199 [==============================] - 1s 5ms/step - loss: nan - accuracy: 0.7373\n",
      "Epoch 21/50\n",
      "199/199 [==============================] - 1s 5ms/step - loss: nan - accuracy: 0.7373\n",
      "Epoch 22/50\n",
      "199/199 [==============================] - 1s 4ms/step - loss: nan - accuracy: 0.7373\n",
      "Epoch 23/50\n",
      "199/199 [==============================] - 1s 4ms/step - loss: nan - accuracy: 0.7373\n",
      "Epoch 24/50\n",
      "199/199 [==============================] - 1s 4ms/step - loss: nan - accuracy: 0.7373\n",
      "Epoch 25/50\n",
      "199/199 [==============================] - 1s 4ms/step - loss: nan - accuracy: 0.7373\n",
      "Epoch 26/50\n",
      "199/199 [==============================] - 1s 4ms/step - loss: nan - accuracy: 0.7373\n",
      "Epoch 27/50\n",
      "199/199 [==============================] - 1s 4ms/step - loss: nan - accuracy: 0.7373\n",
      "Epoch 28/50\n",
      "199/199 [==============================] - 1s 4ms/step - loss: nan - accuracy: 0.7373\n",
      "Epoch 29/50\n",
      "199/199 [==============================] - 1s 5ms/step - loss: nan - accuracy: 0.7373\n",
      "Epoch 30/50\n",
      "199/199 [==============================] - 1s 5ms/step - loss: nan - accuracy: 0.7373\n",
      "Epoch 31/50\n",
      "199/199 [==============================] - 1s 5ms/step - loss: nan - accuracy: 0.7373\n",
      "Epoch 32/50\n",
      "199/199 [==============================] - 1s 5ms/step - loss: nan - accuracy: 0.7373\n",
      "Epoch 33/50\n",
      "199/199 [==============================] - 1s 4ms/step - loss: nan - accuracy: 0.7373\n",
      "Epoch 34/50\n",
      "199/199 [==============================] - 1s 4ms/step - loss: nan - accuracy: 0.7373\n",
      "Epoch 35/50\n",
      "199/199 [==============================] - 1s 5ms/step - loss: nan - accuracy: 0.7373\n",
      "Epoch 36/50\n",
      "199/199 [==============================] - 1s 5ms/step - loss: nan - accuracy: 0.7373\n",
      "Epoch 37/50\n",
      "199/199 [==============================] - 1s 4ms/step - loss: nan - accuracy: 0.7373\n",
      "Epoch 38/50\n",
      "199/199 [==============================] - 1s 4ms/step - loss: nan - accuracy: 0.7373\n",
      "Epoch 39/50\n",
      "199/199 [==============================] - 1s 5ms/step - loss: nan - accuracy: 0.7373\n",
      "Epoch 40/50\n",
      "199/199 [==============================] - 1s 4ms/step - loss: nan - accuracy: 0.7373\n",
      "Epoch 41/50\n",
      "199/199 [==============================] - 1s 4ms/step - loss: nan - accuracy: 0.7373\n",
      "Epoch 42/50\n",
      "199/199 [==============================] - 1s 4ms/step - loss: nan - accuracy: 0.7373\n",
      "Epoch 43/50\n",
      "199/199 [==============================] - 1s 4ms/step - loss: nan - accuracy: 0.7373\n",
      "Epoch 44/50\n",
      "199/199 [==============================] - 1s 4ms/step - loss: nan - accuracy: 0.7373\n",
      "Epoch 45/50\n",
      "199/199 [==============================] - 1s 4ms/step - loss: nan - accuracy: 0.7373\n",
      "Epoch 46/50\n",
      "199/199 [==============================] - 1s 4ms/step - loss: nan - accuracy: 0.7373\n",
      "Epoch 47/50\n",
      "199/199 [==============================] - 1s 4ms/step - loss: nan - accuracy: 0.7373\n",
      "Epoch 48/50\n",
      "199/199 [==============================] - 1s 4ms/step - loss: nan - accuracy: 0.7373\n",
      "Epoch 49/50\n",
      "199/199 [==============================] - 1s 4ms/step - loss: nan - accuracy: 0.7373\n",
      "Epoch 50/50\n",
      "199/199 [==============================] - 1s 4ms/step - loss: nan - accuracy: 0.7373\n"
     ]
    },
    {
     "data": {
      "text/plain": [
       "<keras.callbacks.History at 0x1864b1f7e20>"
      ]
     },
     "execution_count": 73,
     "metadata": {},
     "output_type": "execute_result"
    }
   ],
   "source": [
    "## Now lets Tarin Neurol Network Model  ## Here 20 Layers Input layer\n",
    "model=keras.Sequential([keras.layers.Dense(63,input_shape=(26,),activation='relu'),\n",
    "                        \n",
    " ## Now Hidden layer \n",
    "       keras.layers.Dense(15,activation='relu'),\n",
    "       keras.layers.Dense(15,activation='relu'),                 \n",
    "  ## Now OutPut layer                      \n",
    "       keras.layers.Dense(1,activation='sigmoid')    ,             \n",
    "                        \n",
    "                        \n",
    "    \n",
    "])\n",
    "model.compile(optimizer='adam',\n",
    "             loss='binary_crossentropy',\n",
    "             metrics=['accuracy'])\n",
    "model.fit(X_train,y_train,epochs=50)"
   ]
  },
  {
   "cell_type": "code",
   "execution_count": 75,
   "id": "c81093f8-f002-4e0f-851d-8734390d63d1",
   "metadata": {},
   "outputs": [
    {
     "data": {
      "text/html": [
       "<div>\n",
       "<style scoped>\n",
       "    .dataframe tbody tr th:only-of-type {\n",
       "        vertical-align: middle;\n",
       "    }\n",
       "\n",
       "    .dataframe tbody tr th {\n",
       "        vertical-align: top;\n",
       "    }\n",
       "\n",
       "    .dataframe thead th {\n",
       "        text-align: right;\n",
       "    }\n",
       "</style>\n",
       "<table border=\"1\" class=\"dataframe\">\n",
       "  <thead>\n",
       "    <tr style=\"text-align: right;\">\n",
       "      <th></th>\n",
       "      <th>gender</th>\n",
       "      <th>SeniorCitizen</th>\n",
       "      <th>Partner</th>\n",
       "      <th>Dependents</th>\n",
       "      <th>tenure</th>\n",
       "      <th>PhoneService</th>\n",
       "      <th>MultipleLines</th>\n",
       "      <th>OnlineSecurity</th>\n",
       "      <th>OnlineBackup</th>\n",
       "      <th>DeviceProtection</th>\n",
       "      <th>...</th>\n",
       "      <th>InternetService_DSL</th>\n",
       "      <th>InternetService_Fiber optic</th>\n",
       "      <th>InternetService_No</th>\n",
       "      <th>Contract_Month-to-month</th>\n",
       "      <th>Contract_One year</th>\n",
       "      <th>Contract_Two year</th>\n",
       "      <th>PaymentMethod_Bank transfer (automatic)</th>\n",
       "      <th>PaymentMethod_Credit card (automatic)</th>\n",
       "      <th>PaymentMethod_Electronic check</th>\n",
       "      <th>PaymentMethod_Mailed check</th>\n",
       "    </tr>\n",
       "  </thead>\n",
       "  <tbody>\n",
       "    <tr>\n",
       "      <th>0</th>\n",
       "      <td>1</td>\n",
       "      <td>0</td>\n",
       "      <td>1</td>\n",
       "      <td>0</td>\n",
       "      <td>0.013889</td>\n",
       "      <td>0</td>\n",
       "      <td>0</td>\n",
       "      <td>0</td>\n",
       "      <td>1</td>\n",
       "      <td>0</td>\n",
       "      <td>...</td>\n",
       "      <td>1</td>\n",
       "      <td>0</td>\n",
       "      <td>0</td>\n",
       "      <td>1</td>\n",
       "      <td>0</td>\n",
       "      <td>0</td>\n",
       "      <td>0</td>\n",
       "      <td>0</td>\n",
       "      <td>1</td>\n",
       "      <td>0</td>\n",
       "    </tr>\n",
       "    <tr>\n",
       "      <th>1</th>\n",
       "      <td>0</td>\n",
       "      <td>0</td>\n",
       "      <td>0</td>\n",
       "      <td>0</td>\n",
       "      <td>0.472222</td>\n",
       "      <td>1</td>\n",
       "      <td>0</td>\n",
       "      <td>1</td>\n",
       "      <td>0</td>\n",
       "      <td>1</td>\n",
       "      <td>...</td>\n",
       "      <td>1</td>\n",
       "      <td>0</td>\n",
       "      <td>0</td>\n",
       "      <td>0</td>\n",
       "      <td>1</td>\n",
       "      <td>0</td>\n",
       "      <td>0</td>\n",
       "      <td>0</td>\n",
       "      <td>0</td>\n",
       "      <td>1</td>\n",
       "    </tr>\n",
       "    <tr>\n",
       "      <th>2</th>\n",
       "      <td>0</td>\n",
       "      <td>0</td>\n",
       "      <td>0</td>\n",
       "      <td>0</td>\n",
       "      <td>0.027778</td>\n",
       "      <td>1</td>\n",
       "      <td>0</td>\n",
       "      <td>1</td>\n",
       "      <td>1</td>\n",
       "      <td>0</td>\n",
       "      <td>...</td>\n",
       "      <td>1</td>\n",
       "      <td>0</td>\n",
       "      <td>0</td>\n",
       "      <td>1</td>\n",
       "      <td>0</td>\n",
       "      <td>0</td>\n",
       "      <td>0</td>\n",
       "      <td>0</td>\n",
       "      <td>0</td>\n",
       "      <td>1</td>\n",
       "    </tr>\n",
       "    <tr>\n",
       "      <th>3</th>\n",
       "      <td>0</td>\n",
       "      <td>0</td>\n",
       "      <td>0</td>\n",
       "      <td>0</td>\n",
       "      <td>0.625000</td>\n",
       "      <td>0</td>\n",
       "      <td>0</td>\n",
       "      <td>1</td>\n",
       "      <td>0</td>\n",
       "      <td>1</td>\n",
       "      <td>...</td>\n",
       "      <td>1</td>\n",
       "      <td>0</td>\n",
       "      <td>0</td>\n",
       "      <td>0</td>\n",
       "      <td>1</td>\n",
       "      <td>0</td>\n",
       "      <td>1</td>\n",
       "      <td>0</td>\n",
       "      <td>0</td>\n",
       "      <td>0</td>\n",
       "    </tr>\n",
       "    <tr>\n",
       "      <th>4</th>\n",
       "      <td>1</td>\n",
       "      <td>0</td>\n",
       "      <td>0</td>\n",
       "      <td>0</td>\n",
       "      <td>0.027778</td>\n",
       "      <td>1</td>\n",
       "      <td>0</td>\n",
       "      <td>0</td>\n",
       "      <td>0</td>\n",
       "      <td>0</td>\n",
       "      <td>...</td>\n",
       "      <td>0</td>\n",
       "      <td>1</td>\n",
       "      <td>0</td>\n",
       "      <td>1</td>\n",
       "      <td>0</td>\n",
       "      <td>0</td>\n",
       "      <td>0</td>\n",
       "      <td>0</td>\n",
       "      <td>1</td>\n",
       "      <td>0</td>\n",
       "    </tr>\n",
       "  </tbody>\n",
       "</table>\n",
       "<p>5 rows × 27 columns</p>\n",
       "</div>"
      ],
      "text/plain": [
       "   gender  SeniorCitizen  Partner  Dependents    tenure  PhoneService  \\\n",
       "0       1              0        1           0  0.013889             0   \n",
       "1       0              0        0           0  0.472222             1   \n",
       "2       0              0        0           0  0.027778             1   \n",
       "3       0              0        0           0  0.625000             0   \n",
       "4       1              0        0           0  0.027778             1   \n",
       "\n",
       "   MultipleLines  OnlineSecurity  OnlineBackup  DeviceProtection  ...  \\\n",
       "0              0               0             1                 0  ...   \n",
       "1              0               1             0                 1  ...   \n",
       "2              0               1             1                 0  ...   \n",
       "3              0               1             0                 1  ...   \n",
       "4              0               0             0                 0  ...   \n",
       "\n",
       "   InternetService_DSL  InternetService_Fiber optic  InternetService_No  \\\n",
       "0                    1                            0                   0   \n",
       "1                    1                            0                   0   \n",
       "2                    1                            0                   0   \n",
       "3                    1                            0                   0   \n",
       "4                    0                            1                   0   \n",
       "\n",
       "   Contract_Month-to-month  Contract_One year  Contract_Two year  \\\n",
       "0                        1                  0                  0   \n",
       "1                        0                  1                  0   \n",
       "2                        1                  0                  0   \n",
       "3                        0                  1                  0   \n",
       "4                        1                  0                  0   \n",
       "\n",
       "   PaymentMethod_Bank transfer (automatic)  \\\n",
       "0                                        0   \n",
       "1                                        0   \n",
       "2                                        0   \n",
       "3                                        1   \n",
       "4                                        0   \n",
       "\n",
       "   PaymentMethod_Credit card (automatic)  PaymentMethod_Electronic check  \\\n",
       "0                                      0                               1   \n",
       "1                                      0                               0   \n",
       "2                                      0                               0   \n",
       "3                                      0                               0   \n",
       "4                                      0                               1   \n",
       "\n",
       "   PaymentMethod_Mailed check  \n",
       "0                           0  \n",
       "1                           1  \n",
       "2                           1  \n",
       "3                           0  \n",
       "4                           0  \n",
       "\n",
       "[5 rows x 27 columns]"
      ]
     },
     "execution_count": 75,
     "metadata": {},
     "output_type": "execute_result"
    }
   ],
   "source": [
    "df2.head()"
   ]
  },
  {
   "cell_type": "code",
   "execution_count": 76,
   "id": "8298124b-ae69-4d93-8769-acc742622870",
   "metadata": {},
   "outputs": [
    {
     "name": "stdout",
     "output_type": "stream",
     "text": [
      "23/23 [==============================] - 1s 4ms/step - loss: nan - accuracy: 0.7106\n"
     ]
    },
    {
     "data": {
      "text/plain": [
       "[nan, 0.7106382846832275]"
      ]
     },
     "execution_count": 76,
     "metadata": {},
     "output_type": "execute_result"
    }
   ],
   "source": [
    "model.evaluate(X_test,y_test)"
   ]
  },
  {
   "cell_type": "code",
   "execution_count": 77,
   "id": "64a7d4d7-cf40-4ae8-92e6-c2a350e63a5a",
   "metadata": {},
   "outputs": [
    {
     "name": "stdout",
     "output_type": "stream",
     "text": [
      "23/23 [==============================] - 0s 4ms/step\n"
     ]
    },
    {
     "data": {
      "text/plain": [
       "array([[nan],\n",
       "       [nan],\n",
       "       [nan],\n",
       "       [nan],\n",
       "       [nan]], dtype=float32)"
      ]
     },
     "execution_count": 77,
     "metadata": {},
     "output_type": "execute_result"
    }
   ],
   "source": [
    "yp=model.predict(X_test)\n",
    "yp[:5]\n"
   ]
  },
  {
   "cell_type": "code",
   "execution_count": null,
   "id": "12b6d8a4-3e19-49fb-9eda-65b5404d3b02",
   "metadata": {},
   "outputs": [],
   "source": [
    "## Here Confusion Metrices Means it will tell \n",
    "\n",
    "## How mant times am i Predicted the Output Right or Wrong Thats the Big Issue "
   ]
  }
 ],
 "metadata": {
  "kernelspec": {
   "display_name": "Python 3 (ipykernel)",
   "language": "python",
   "name": "python3"
  },
  "language_info": {
   "codemirror_mode": {
    "name": "ipython",
    "version": 3
   },
   "file_extension": ".py",
   "mimetype": "text/x-python",
   "name": "python",
   "nbconvert_exporter": "python",
   "pygments_lexer": "ipython3",
   "version": "3.9.23"
  }
 },
 "nbformat": 4,
 "nbformat_minor": 5
}
