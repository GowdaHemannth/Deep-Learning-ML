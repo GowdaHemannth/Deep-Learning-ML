{
 "cells": [
  {
   "cell_type": "code",
   "execution_count": 3,
   "id": "64103c1b-d02f-4641-9e0f-95d78796ed85",
   "metadata": {},
   "outputs": [],
   "source": [
    "## To Recognize the Patteen or Iamges like \n",
    "## Recognising the Handwritten Digits computer need to convert it into grid tructure then \n",
    "## Then find the Pattern in them and then Analyse the Isuue\n",
    "## Waht if they are different varient availble there we can not create each pixel which may take differnt Millions of Iamges \n",
    "\n",
    "## Hnece we use Filter method \n",
    "##Where we analyse different PAtrs of the Handwritten Note then Analyse the Digits \n",
    "\n",
    "\n",
    "## Here we willl be Using differnt filters to analyse the Iamges one might eye and nose then combine them get head \n",
    "## Likethat so on We will tect the Thigs HEERE \n"
   ]
  },
  {
   "cell_type": "code",
   "execution_count": 4,
   "id": "f4f8c4da-ccbc-45d2-be03-4135937f432a",
   "metadata": {},
   "outputs": [],
   "source": [
    "## If go on doing that image size increase dra=ticaly So Here we wil use \n",
    "\n",
    "## POOLING METHOD"
   ]
  },
  {
   "cell_type": "code",
   "execution_count": 2,
   "id": "fe653ed7-8c49-4c22-b348-7a76ce51fde2",
   "metadata": {},
   "outputs": [],
   "source": [
    "## Here we will be Loading 60000 Dataset 32*32 3 Rgb\n",
    "import tensorflow as tf\n",
    "from tensorflow.keras import datasets,layers,models\n",
    "import matplotlib.pyplot as plt\n",
    "import numpy as np\n"
   ]
  },
  {
   "cell_type": "code",
   "execution_count": null,
   "id": "8b3fd1ef-5a38-4372-bac7-035dfb50bcce",
   "metadata": {},
   "outputs": [],
   "source": []
  },
  {
   "cell_type": "code",
   "execution_count": 3,
   "id": "014b5531-50a9-489b-92d5-160f4ede9965",
   "metadata": {},
   "outputs": [],
   "source": [
    "(X_train,y_train),(X_test,y_test)=datasets.cifar10.load_data()"
   ]
  },
  {
   "cell_type": "code",
   "execution_count": 4,
   "id": "fdb02f63-f4f7-41bb-8d39-60408255bf07",
   "metadata": {},
   "outputs": [
    {
     "data": {
      "text/plain": [
       "array([[6],\n",
       "       [9],\n",
       "       [9],\n",
       "       [4],\n",
       "       [1]], dtype=uint8)"
      ]
     },
     "execution_count": 4,
     "metadata": {},
     "output_type": "execute_result"
    }
   ],
   "source": [
    "y_train[:5]"
   ]
  },
  {
   "cell_type": "code",
   "execution_count": 5,
   "id": "96036e5b-ba0f-450f-acdb-bf80ca215090",
   "metadata": {},
   "outputs": [
    {
     "data": {
      "text/plain": [
       "1"
      ]
     },
     "execution_count": 5,
     "metadata": {},
     "output_type": "execute_result"
    }
   ],
   "source": [
    "## Here in y we only need to know What does theseY indicates \n",
    "y_train=y_train.reshape(-1,) ## Here what and all you dont want to change keeop it like that only \n",
    "y_train[5]"
   ]
  },
  {
   "cell_type": "code",
   "execution_count": 6,
   "id": "1cad7eae-5c91-4805-aa0b-e0235381cf5e",
   "metadata": {},
   "outputs": [
    {
     "data": {
      "text/plain": [
       "'deer'"
      ]
     },
     "execution_count": 6,
     "metadata": {},
     "output_type": "execute_result"
    }
   ],
   "source": [
    "classes=[\"airplane\",\"automobile\",\"bird\",\"cat\",\"deer\",\"dog\",\"frog\",\"horse\",\"ship\",\"truck\"]\n",
    "classes[4]"
   ]
  },
  {
   "cell_type": "code",
   "execution_count": 7,
   "id": "8924d06e-3923-4629-a14c-45c26e146fe1",
   "metadata": {},
   "outputs": [],
   "source": [
    "def plot_sample(x,y,index):\n",
    "    plt.figure(figsize=(15,2))\n",
    "    plt.imshow(x[index])\n",
    "    plt.xlabel(classes[y[index]])"
   ]
  },
  {
   "cell_type": "code",
   "execution_count": 8,
   "id": "e99a0830-2b73-45b6-a200-39107173cf53",
   "metadata": {},
   "outputs": [
    {
     "data": {
      "image/png": "[encoded data removed]",
      "text/plain": [
       "<Figure size 1500x200 with 1 Axes>"
      ]
     },
     "metadata": {},
     "output_type": "display_data"
    }
   ],
   "source": [
    "plot_sample(X_train,y_train,0)"
   ]
  },
  {
   "cell_type": "code",
   "execution_count": 9,
   "id": "e3ca76f9-fa4a-40da-8be1-cfdcccb161ee",
   "metadata": {},
   "outputs": [],
   "source": [
    "## Here in thes estep we will normalise the Pixel Data \n",
    "X_train=X_train/255\n",
    "X_test=X_test/255\n"
   ]
  },
  {
   "cell_type": "code",
   "execution_count": 13,
   "id": "0ecb7daa-3a6e-401f-8244-358f4e7b73f2",
   "metadata": {},
   "outputs": [
    {
     "name": "stdout",
     "output_type": "stream",
     "text": [
      "Epoch 1/5\n",
      "1563/1563 [==============================] - 60s 38ms/step - loss: 1.8154 - accuracy: 0.3552\n",
      "Epoch 2/5\n",
      "1563/1563 [==============================] - 59s 38ms/step - loss: 1.6234 - accuracy: 0.4275\n",
      "Epoch 3/5\n",
      "1563/1563 [==============================] - 59s 38ms/step - loss: 1.5427 - accuracy: 0.4562\n",
      "Epoch 4/5\n",
      "1563/1563 [==============================] - 58s 37ms/step - loss: 1.4810 - accuracy: 0.4805\n",
      "Epoch 5/5\n",
      "1563/1563 [==============================] - 59s 37ms/step - loss: 1.4327 - accuracy: 0.4939\n"
     ]
    },
    {
     "data": {
      "text/plain": [
       "<keras.callbacks.History at 0x2748a82ca30>"
      ]
     },
     "execution_count": 13,
     "metadata": {},
     "output_type": "execute_result"
    }
   ],
   "source": [
    "ann=models.Sequential([\n",
    "    layers.Flatten(input_shape=(32,32,3)),\n",
    "    layers.Dense(3000,activation='relu'),\n",
    "    layers.Dense(1000,activation='relu'),\n",
    "    layers.Dense(10,activation='sigmoid')\n",
    "    \n",
    "])\n",
    "\n",
    "ann.compile(optimizer='SGD',\n",
    "           loss='sparse_categorical_crossentropy',\n",
    "           metrics=['accuracy'])\n",
    "\n",
    "ann.fit(X_train,y_train,epochs=5)"
   ]
  },
  {
   "cell_type": "code",
   "execution_count": 14,
   "id": "3deb6c93-28cc-4426-a0df-cb1c73725447",
   "metadata": {},
   "outputs": [
    {
     "name": "stdout",
     "output_type": "stream",
     "text": [
      "313/313 [==============================] - 3s 10ms/step - loss: 1.4630 - accuracy: 0.4766\n"
     ]
    },
    {
     "data": {
      "text/plain": [
       "[1.4629584550857544, 0.4765999913215637]"
      ]
     },
     "execution_count": 14,
     "metadata": {},
     "output_type": "execute_result"
    }
   ],
   "source": [
    "ann.evaluate(X_test,y_test)"
   ]
  },
  {
   "cell_type": "code",
   "execution_count": 11,
   "id": "a7fa3743-5283-43ff-b87d-eb6df10abc69",
   "metadata": {},
   "outputs": [
    {
     "name": "stdout",
     "output_type": "stream",
     "text": [
      "Epoch 1/10\n",
      "1563/1563 [==============================] - 21s 13ms/step - loss: 1.5096 - accuracy: 0.4521\n",
      "Epoch 2/10\n",
      "1563/1563 [==============================] - 19s 12ms/step - loss: 1.1874 - accuracy: 0.5814\n",
      "Epoch 3/10\n",
      "1563/1563 [==============================] - 19s 12ms/step - loss: 1.0720 - accuracy: 0.6249\n",
      "Epoch 4/10\n",
      "1563/1563 [==============================] - 19s 12ms/step - loss: 0.9907 - accuracy: 0.6531\n",
      "Epoch 5/10\n",
      "1563/1563 [==============================] - 19s 12ms/step - loss: 0.9370 - accuracy: 0.6729\n",
      "Epoch 6/10\n",
      "1563/1563 [==============================] - 19s 12ms/step - loss: 0.8891 - accuracy: 0.6894\n",
      "Epoch 7/10\n",
      "1563/1563 [==============================] - 19s 12ms/step - loss: 0.8409 - accuracy: 0.7056\n",
      "Epoch 8/10\n",
      "1563/1563 [==============================] - 19s 12ms/step - loss: 0.8106 - accuracy: 0.7174\n",
      "Epoch 9/10\n",
      "1563/1563 [==============================] - 19s 12ms/step - loss: 0.7777 - accuracy: 0.7280\n",
      "Epoch 10/10\n",
      "1563/1563 [==============================] - 19s 12ms/step - loss: 0.7486 - accuracy: 0.7375\n"
     ]
    },
    {
     "data": {
      "text/plain": [
       "<keras.callbacks.History at 0x292ae629490>"
      ]
     },
     "execution_count": 11,
     "metadata": {},
     "output_type": "execute_result"
    }
   ],
   "source": [
    "## Using the Artificial neuron Network accuracy can be Perection So\n",
    "##CNN \n",
    "cnn=models.Sequential([\n",
    "    ## cnn layers Here the Whole Image will be Broken down and For  predictiona ala the Things will be Reallinged \n",
    "    layers.Conv2D(filters=32,kernel_size=(3,3),activation='relu',input_shape=(32,32,3)), ## Here how many pixels value So many Filters\n",
    "    layers.MaxPooling2D((2,2)),\n",
    "    \n",
    "    layers.Conv2D(filters=32,kernel_size=(3,3),activation='relu',input_shape=(32,32,3)), ## Here how many pixels value So many Filters\n",
    "    layers.MaxPooling2D((2,2)),\n",
    "    layers.Flatten(),\n",
    "  \n",
    "    layers.Dense(64,activation='relu'),\n",
    "    layers.Dense(10,activation='softmax')\n",
    "    \n",
    "])\n",
    "cnn.compile(optimizer='adam',\n",
    "           loss='sparse_categorical_crossentropy',\n",
    "           metrics=['accuracy'])\n",
    "cnn.fit(X_train,y_train,epochs=10)"
   ]
  },
  {
   "cell_type": "code",
   "execution_count": 12,
   "id": "f0d89f5b-3c47-401c-af15-a82ca5948982",
   "metadata": {},
   "outputs": [
    {
     "name": "stdout",
     "output_type": "stream",
     "text": [
      "313/313 [==============================] - 2s 6ms/step - loss: 0.9422 - accuracy: 0.6870\n"
     ]
    },
    {
     "data": {
      "text/plain": [
       "[0.9422350525856018, 0.6869999766349792]"
      ]
     },
     "execution_count": 12,
     "metadata": {},
     "output_type": "execute_result"
    }
   ],
   "source": [
    "cnn.evaluate(X_test,y_test)"
   ]
  },
  {
   "cell_type": "code",
   "execution_count": 13,
   "id": "538a5d55-621f-461e-a572-ea7317ff4a1b",
   "metadata": {},
   "outputs": [
    {
     "data": {
      "image/png": "[encoded data removed]",
      "text/plain": [
       "<Figure size 1500x200 with 1 Axes>"
      ]
     },
     "metadata": {},
     "output_type": "display_data"
    }
   ],
   "source": [
    "y_test=y_test.reshape(-1,)\n",
    "plot_sample(X_test,y_test,0)"
   ]
  },
  {
   "cell_type": "code",
   "execution_count": null,
   "id": "56218141-4df1-4821-8b90-570bb74a9889",
   "metadata": {},
   "outputs": [],
   "source": []
  }
 ],
 "metadata": {
  "kernelspec": {
   "display_name": "Python 3 (ipykernel)",
   "language": "python",
   "name": "python3"
  },
  "language_info": {
   "codemirror_mode": {
    "name": "ipython",
    "version": 3
   },
   "file_extension": ".py",
   "mimetype": "text/x-python",
   "name": "python",
   "nbconvert_exporter": "python",
   "pygments_lexer": "ipython3",
   "version": "3.9.23"
  }
 },
 "nbformat": 4,
 "nbformat_minor": 5
}
